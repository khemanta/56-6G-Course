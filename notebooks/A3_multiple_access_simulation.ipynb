{
 "cells": [
  {
   "cell_type": "markdown",
   "metadata": {},
   "source": [
    "# A3: Multiple Access Simulation\n",
    "📅 Generated on June 2, 2025\n",
    "This notebook demonstrates multiple access techniques and scheduling in 5G systems."
   ]
  },
  {
   "cell_type": "markdown",
   "metadata": {},
   "source": [
    "## 📘 Overview\n",
    "This notebook introduces and simulates key multiple access techniques:\n",
    "- FDMA: Frequency Division Multiple Access\n",
    "- TDMA: Time Division Multiple Access\n",
    "- OFDMA: Orthogonal Frequency Division Multiple Access\n",
    "- NOMA: Non-Orthogonal Multiple Access\n",
    "\n",
    "We also simulate simple scheduling algorithms like:\n",
    "- Round Robin\n",
    "- Proportional Fair"
   ]
  },
  {
   "cell_type": "markdown",
   "metadata": {},
   "source": [
    "## 🎨 FDMA vs TDMA Visualization"
   ]
  },
  {
   "cell_type": "code",
   "execution_count": null,
   "metadata": {},
   "outputs": [],
   "source": [
    "import matplotlib.pyplot as plt\n",
    "import numpy as np\n",
    "\n",
    "fig, axs = plt.subplots(1, 2, figsize=(12, 4))\n",
    "# FDMA\n",
    "frequencies = np.arange(1, 6)\n",
    "for i, f in enumerate(frequencies):\n",
    "    axs[0].barh(y=i, width=1, left=f, height=0.5, label=f'User {i+1}')\n",
    "axs[0].set_title('FDMA Allocation')\n",
    "axs[0].set_xlabel('Frequency')\n",
    "axs[0].legend()\n",
    "axs[0].grid(True)\n",
    "\n",
    "# TDMA\n",
    "slots = np.arange(1, 6)\n",
    "for i, t in enumerate(slots):\n",
    "    axs[1].bar(x=t, height=1, bottom=i, width=0.8, label=f'User {i+1}')\n",
    "axs[1].set_title('TDMA Allocation')\n",
    "axs[1].set_ylabel('User')\n",
    "axs[1].set_xlabel('Time Slot')\n",
    "axs[1].legend()\n",
    "axs[1].grid(True)\n",
    "plt.tight_layout()\n",
    "plt.show()"
   ]
  },
  {
   "cell_type": "markdown",
   "metadata": {},
   "source": [
    "## 📶 OFDMA Subcarrier Allocation Simulation"
   ]
  },
  {
   "cell_type": "code",
   "execution_count": null,
   "metadata": {},
   "outputs": [],
   "source": [
    "users = 4\n",
    "subcarriers = 16\n",
    "allocation = np.random.randint(0, users, subcarriers)\n",
    "plt.figure(figsize=(10, 2))\n",
    "plt.bar(range(subcarriers), [1]*subcarriers, color=plt.cm.tab10(allocation))\n",
    "plt.title('Random OFDMA Subcarrier Allocation')\n",
    "plt.xlabel('Subcarrier Index')\n",
    "plt.yticks([])\n",
    "plt.grid(True)\n",
    "plt.show()"
   ]
  },
  {
   "cell_type": "markdown",
   "metadata": {},
   "source": [
    "## 🔋 NOMA Power Domain Concept"
   ]
  },
  {
   "cell_type": "code",
   "execution_count": null,
   "metadata": {},
   "outputs": [],
   "source": [
    "powers = [0.7, 0.3]  # Strong and weak user\n",
    "labels = ['User 1 (Far)', 'User 2 (Near)']\n",
    "plt.barh([0], powers[0], label=labels[0])\n",
    "plt.barh([0], powers[1], left=powers[0], label=labels[1])\n",
    "plt.title('Power Domain Multiplexing in NOMA')\n",
    "plt.xlabel('Total Transmit Power')\n",
    "plt.legend()\n",
    "plt.grid(True)\n",
    "plt.show()"
   ]
  },
  {
   "cell_type": "markdown",
   "metadata": {},
   "source": [
    "## 🔁 Round Robin Scheduling Example"
   ]
  },
  {
   "cell_type": "code",
   "execution_count": null,
   "metadata": {},
   "outputs": [],
   "source": [
    "users = 4\n",
    "slots = 12\n",
    "schedule = [(i % users) + 1 for i in range(slots)]\n",
    "plt.figure(figsize=(10, 1))\n",
    "plt.bar(range(slots), [1]*slots, color=plt.cm.tab10([u-1 for u in schedule]))\n",
    "plt.xticks(range(slots), [f'Slot {i+1}' for i in range(slots)], rotation=45)\n",
    "plt.yticks([])\n",
    "plt.title('Round Robin Scheduling')\n",
    "plt.grid(True)\n",
    "plt.show()"
   ]
  },
  {
   "cell_type": "markdown",
   "metadata": {},
   "source": [
    "## ⚖️ Proportional Fair Scheduling (Conceptual)"
   ]
  },
  {
   "cell_type": "code",
   "execution_count": null,
   "metadata": {},
   "outputs": [],
   "source": [
    "np.random.seed(42)\n",
    "users = 5\n",
    "inst_rates = np.random.rand(users)\n",
    "avg_rates = np.random.rand(users)\n",
    "pf_metric = inst_rates / avg_rates\n",
    "\n",
    "for i in range(users):\n",
    "    print(f'User {i+1}: Inst Rate = {inst_rates[i]:.2f}, Avg Rate = {avg_rates[i]:.2f}, PF Metric = {pf_metric[i]:.2f}')\n",
    "\n",
    "winner = np.argmax(pf_metric)\n",
    "print(f'User {winner+1} is scheduled.')"
   ]
  },
  {
   "cell_type": "markdown",
   "metadata": {},
   "source": [
    "## ✅ Summary\n",
    "This notebook visualized key multiple access techniques and provided basic scheduling simulations. \n",
    "These concepts are essential for understanding radio resource allocation in 5G and beyond."
   ]
  }
 ],
 "metadata": {
  "kernelspec": {
   "display_name": "Python 3",
   "language": "python",
   "name": "python3"
  },
  "language_info": {
   "name": "python",
   "version": "3.8"
  }
 },
 "nbformat": 4,
 "nbformat_minor": 5
}
