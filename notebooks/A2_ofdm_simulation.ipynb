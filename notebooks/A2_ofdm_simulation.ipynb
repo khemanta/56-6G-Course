{
 "cells": [
  {
   "cell_type": "markdown",
   "id": "d85ad670",
   "metadata": {},
   "source": [
    "# A2: OFDM Signal Simulation\n",
    "This notebook explores Orthogonal Frequency Division Multiplexing (OFDM), the backbone of modern wireless technologies like 5G. We simulate OFDM subcarriers, observe the time-domain waveform with cyclic prefix, and analyze frequency-domain behavior."
   ]
  },
  {
   "cell_type": "markdown",
   "id": "4dd808e5",
   "metadata": {},
   "source": [
    "## 1. Background\n",
    "OFDM divides the spectrum into multiple orthogonal subcarriers. Each subcarrier carries a modulated symbol (e.g., QPSK, 16-QAM). This improves robustness to multipath fading and enables efficient use of bandwidth.\n",
    "\n",
    "**Key Concepts:**\n",
    "- Subcarriers are orthogonal (no mutual interference)\n",
    "- Cyclic Prefix (CP) prevents inter-symbol interference\n",
    "- FFT/IFFT transforms between time and frequency domain"
   ]
  },
  {
   "cell_type": "code",
   "execution_count": null,
   "id": "acd785d9",
   "metadata": {},
   "outputs": [],
   "source": [
    "import numpy as np\n",
    "import matplotlib.pyplot as plt\n",
    "%matplotlib inline"
   ]
  },
  {
   "cell_type": "markdown",
   "id": "cd2c54fd",
   "metadata": {},
   "source": [
    "## 2. Simulation Parameters"
   ]
  },
  {
   "cell_type": "code",
   "execution_count": null,
   "id": "795257f8",
   "metadata": {},
   "outputs": [],
   "source": [
    "# Number of subcarriers\n",
    "N = 64\n",
    "\n",
    "# Cyclic prefix length\n",
    "cp_len = 16\n",
    "\n",
    "# Modulation type (QPSK)\n",
    "def generate_qpsk(N):\n",
    "    return (np.random.randint(0, 2, N) * 2 - 1) + 1j * (np.random.randint(0, 2, N) * 2 - 1)\n",
    "\n",
    "symbols = generate_qpsk(N)\n",
    "print(\"Sample QPSK symbols:\", symbols[:5])"
   ]
  },
  {
   "cell_type": "markdown",
   "id": "821b22c2",
   "metadata": {},
   "source": [
    "## 3. Generate OFDM Time-Domain Signal"
   ]
  },
  {
   "cell_type": "code",
   "execution_count": null,
   "id": "b9ebf0dd",
   "metadata": {},
   "outputs": [],
   "source": [
    "# IFFT to convert to time-domain\n",
    "ofdm_signal = np.fft.ifft(symbols)\n",
    "\n",
    "# Add cyclic prefix\n",
    "ofdm_with_cp = np.concatenate([ofdm_signal[-cp_len:], ofdm_signal])"
   ]
  },
  {
   "cell_type": "markdown",
   "id": "b7661581",
   "metadata": {},
   "source": [
    "### Plot Time-Domain Signal (with Cyclic Prefix)"
   ]
  },
  {
   "cell_type": "code",
   "execution_count": null,
   "id": "f26bcf2c",
   "metadata": {},
   "outputs": [],
   "source": [
    "plt.figure(figsize=(10, 4))\n",
    "plt.plot(ofdm_with_cp.real, label='Real')\n",
    "plt.plot(ofdm_with_cp.imag, label='Imag', linestyle='--')\n",
    "plt.title('Time-Domain OFDM Signal with Cyclic Prefix')\n",
    "plt.xlabel('Sample Index')\n",
    "plt.ylabel('Amplitude')\n",
    "plt.legend()\n",
    "plt.grid(True)\n",
    "plt.tight_layout()\n",
    "plt.show()"
   ]
  },
  {
   "cell_type": "markdown",
   "id": "4c9197ec",
   "metadata": {},
   "source": [
    "## 4. Frequency-Domain Analysis (FFT of OFDM Signal)"
   ]
  },
  {
   "cell_type": "code",
   "execution_count": null,
   "id": "5d634967",
   "metadata": {},
   "outputs": [],
   "source": [
    "freq = np.fft.fftfreq(N)\n",
    "mag = np.abs(np.fft.fft(ofdm_signal))\n",
    "\n",
    "plt.figure(figsize=(10, 4))\n",
    "plt.stem(freq, mag, basefmt=\" \", use_line_collection=True)\n",
    "plt.title('Frequency-Domain View (Magnitude of Subcarriers)')\n",
    "plt.xlabel('Normalized Frequency')\n",
    "plt.ylabel('Magnitude')\n",
    "plt.grid(True)\n",
    "plt.tight_layout()\n",
    "plt.show()"
   ]
  }
 ],
 "metadata": {},
 "nbformat": 4,
 "nbformat_minor": 5
}
