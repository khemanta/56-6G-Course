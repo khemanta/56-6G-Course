{
 "cells": [
  {
   "cell_type": "markdown",
   "metadata": {},
   "source": [
    "# A7: Channel Coding & HARQ\n",
    "\n",
    "This notebook demonstrates basic simulations for channel coding, decoding, and Hybrid ARQ (HARQ) mechanisms, which are core to 5G reliability."
   ]
  },
  {
   "cell_type": "code",
   "execution_count": null,
   "metadata": {},
   "outputs": [],
   "source": [
    "# Install commpy if not available (used for convolutional codes)\n",
    "# !pip install commpy\n",
    "\n",
    "import numpy as np\n",
    "import matplotlib.pyplot as plt\n",
    "from commpy.channelcoding import Trellis, conv_encode, viterbi_decode\n",
    "from numpy.random import rand, randint"
   ]
  },
  {
   "cell_type": "markdown",
   "metadata": {},
   "source": [
    "## 1. Define a convolutional code"
   ]
  },
  {
   "cell_type": "code",
   "execution_count": null,
   "metadata": {},
   "outputs": [],
   "source": [
    "# Constraint length 3, generator polynomials (7, 5) in octal\n",
    "trellis = Trellis(memory=np.array([2]), g_matrix=np.array([[7, 5]]))\n",
    "\n",
    "# Generate random data\n",
    "data = randint(0, 2, 100)\n",
    "\n",
    "# Encode\n",
    "coded = conv_encode(data, trellis)\n",
    "coded[:20]"
   ]
  },
  {
   "cell_type": "markdown",
   "metadata": {},
   "source": [
    "## 2. Transmit through BPSK and AWGN"
   ]
  },
  {
   "cell_type": "code",
   "execution_count": null,
   "metadata": {},
   "outputs": [],
   "source": [
    "def awgn(x, snr_db):\n",
    "    snr = 10 ** (snr_db / 10.0)\n",
    "    sigma = np.sqrt(1 / (2 * snr))\n",
    "    noise = sigma * np.random.randn(*x.shape)\n",
    "    return x + noise\n",
    "\n",
    "# BPSK modulation\n",
    "tx_signal = 1 - 2 * coded\n",
    "rx_signal = awgn(tx_signal, snr_db=3)\n",
    "\n",
    "# Hard decision demodulation\n",
    "rx_bits = (rx_signal < 0).astype(int)"
   ]
  },
  {
   "cell_type": "markdown",
   "metadata": {},
   "source": [
    "## 3. Viterbi Decoding"
   ]
  },
  {
   "cell_type": "code",
   "execution_count": null,
   "metadata": {},
   "outputs": [],
   "source": [
    "# Decode using Viterbi algorithm\n",
    "decoded = viterbi_decode(rx_bits, trellis, tb_depth=15)\n",
    "\n",
    "# Compute BER\n",
    "ber = np.mean(data != decoded[:len(data)])\n",
    "print(f\"Bit Error Rate (BER): {ber:.4f}\")"
   ]
  },
  {
   "cell_type": "markdown",
   "metadata": {},
   "source": [
    "## 4. HARQ with Retransmissions (Chase Combining)"
   ]
  },
  {
   "cell_type": "code",
   "execution_count": null,
   "metadata": {},
   "outputs": [],
   "source": [
    "n_retx = 3\n",
    "combined_signal = np.zeros_like(tx_signal, dtype=float)\n",
    "\n",
    "for i in range(n_retx):\n",
    "    rx = awgn(tx_signal, snr_db=1)  # Low SNR to simulate need for HARQ\n",
    "    combined_signal += rx\n",
    "\n",
    "# Average received signal (Chase combining)\n",
    "rx_combined = combined_signal / n_retx\n",
    "rx_combined_bits = (rx_combined < 0).astype(int)\n",
    "decoded_combined = viterbi_decode(rx_combined_bits, trellis, tb_depth=15)\n",
    "\n",
    "ber_combined = np.mean(data != decoded_combined[:len(data)])\n",
    "print(f\"BER after {n_retx} HARQ retransmissions (Chase Combining): {ber_combined:.4f}\")"
   ]
  },
  {
   "cell_type": "markdown",
   "metadata": {},
   "source": [
    "## 5. Visual Comparison"
   ]
  },
  {
   "cell_type": "code",
   "execution_count": null,
   "metadata": {},
   "outputs": [],
   "source": [
    "snrs = np.arange(0, 6, 1)\n",
    "ber_noharq = []\n",
    "ber_harq = []\n",
    "\n",
    "for snr in snrs:\n",
    "    # No HARQ\n",
    "    rx = awgn(tx_signal, snr)\n",
    "    rx_bits = (rx < 0).astype(int)\n",
    "    decoded = viterbi_decode(rx_bits, trellis, tb_depth=15)\n",
    "    ber_noharq.append(np.mean(data != decoded[:len(data)]))\n",
    "    \n",
    "    # HARQ\n",
    "    combined_signal = np.zeros_like(tx_signal, dtype=float)\n",
    "    for _ in range(n_retx):\n",
    "        combined_signal += awgn(tx_signal, snr)\n",
    "    rx_combined = combined_signal / n_retx\n",
    "    rx_bits_combined = (rx_combined < 0).astype(int)\n",
    "    decoded = viterbi_decode(rx_bits_combined, trellis, tb_depth=15)\n",
    "    ber_harq.append(np.mean(data != decoded[:len(data)]))\n",
    "\n",
    "plt.semilogy(snrs, ber_noharq, label='No HARQ')\n",
    "plt.semilogy(snrs, ber_harq, label='HARQ (Chase)', linestyle='--')\n",
    "plt.xlabel('SNR (dB)')\n",
    "plt.ylabel('BER')\n",
    "plt.title('BER vs SNR with and without HARQ')\n",
    "plt.grid(True)\n",
    "plt.legend()\n",
    "plt.tight_layout()\n",
    "plt.savefig(\"ber_harq_comparison.png\")\n",
    "plt.show()"
   ]
  }
 ],
 "metadata": {
  "kernelspec": {
   "display_name": "Python 3",
   "language": "python",
   "name": "python3"
  },
  "language_info": {
   "name": "python",
   "version": ""
  }
 },
 "nbformat": 4,
 "nbformat_minor": 2
}
